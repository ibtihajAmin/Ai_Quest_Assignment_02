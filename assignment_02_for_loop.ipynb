{
 "cells": [
  {
   "cell_type": "markdown",
   "metadata": {},
   "source": [
    "# 11. Write a program that prints the first `n` natural numbers."
   ]
  },
  {
   "cell_type": "code",
   "execution_count": 1,
   "metadata": {},
   "outputs": [
    {
     "name": "stdout",
     "output_type": "stream",
     "text": [
      "1\n",
      "2\n",
      "3\n",
      "4\n",
      "5\n"
     ]
    }
   ],
   "source": [
    "#Taking input value from user\n",
    "n = int(input(\"How many natural numbers do you wanna show ?\"))\n",
    "\n",
    "for i in range(1, n + 1):\n",
    "    print(i)\n"
   ]
  },
  {
   "cell_type": "markdown",
   "metadata": {},
   "source": [
    "# 12. Write a program that calculates the factorial of a number"
   ]
  },
  {
   "cell_type": "code",
   "execution_count": 21,
   "metadata": {},
   "outputs": [
    {
     "name": "stdout",
     "output_type": "stream",
     "text": [
      "Sorry! factorial of negative number is not possible\n"
     ]
    }
   ],
   "source": [
    "# Made function to calculate factorial of a number\n",
    "def calculate_factorial():\n",
    "    result = 1\n",
    "    number = int(input(\"Enter the number: \"))\n",
    "\n",
    "    # Created the logic to calculate the factorial\n",
    "    if number == 0:\n",
    "        print(\"Factorial of 0 is 1\")\n",
    "    elif number < 0:\n",
    "        print(\"Sorry! factorial of negative number is not possible\")\n",
    "    else:\n",
    "        for i in range(1, number + 1):\n",
    "            result = result * i\n",
    "        print(\"Answer is %d\" %result)\n",
    "\n",
    "\n",
    "# Call the function\n",
    "calculate_factorial()\n",
    "    \n",
    "\n",
    "\n",
    "    "
   ]
  }
 ],
 "metadata": {
  "kernelspec": {
   "display_name": "Python 3",
   "language": "python",
   "name": "python3"
  },
  "language_info": {
   "codemirror_mode": {
    "name": "ipython",
    "version": 3
   },
   "file_extension": ".py",
   "mimetype": "text/x-python",
   "name": "python",
   "nbconvert_exporter": "python",
   "pygments_lexer": "ipython3",
   "version": "3.11.4"
  }
 },
 "nbformat": 4,
 "nbformat_minor": 2
}
