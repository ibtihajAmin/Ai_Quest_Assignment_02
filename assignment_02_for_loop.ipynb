{
 "cells": [
  {
   "cell_type": "markdown",
   "metadata": {},
   "source": [
    "# 11. Write a program that prints the first `n` natural numbers."
   ]
  },
  {
   "cell_type": "code",
   "execution_count": 1,
   "metadata": {},
   "outputs": [
    {
     "name": "stdout",
     "output_type": "stream",
     "text": [
      "1\n",
      "2\n",
      "3\n",
      "4\n",
      "5\n"
     ]
    }
   ],
   "source": [
    "#Taking input value from user\n",
    "n = int(input(\"How many natural numbers do you wanna show ?\"))\n",
    "\n",
    "for i in range(1, n + 1):\n",
    "    print(i)\n"
   ]
  },
  {
   "cell_type": "markdown",
   "metadata": {},
   "source": [
    "# 12. Write a program that calculates the factorial of a number"
   ]
  },
  {
   "cell_type": "code",
   "execution_count": 22,
   "metadata": {},
   "outputs": [
    {
     "name": "stdout",
     "output_type": "stream",
     "text": [
      "Answer is 120\n"
     ]
    }
   ],
   "source": [
    "# Made function to calculate factorial of a number\n",
    "def calculate_factorial():\n",
    "    result = 1\n",
    "    number = int(input(\"Enter the number: \"))\n",
    "\n",
    "    # Created the logic to calculate the factorial\n",
    "    if number == 0:\n",
    "        print(\"Factorial of 0 is 1\")\n",
    "    elif number < 0:\n",
    "        print(\"Sorry! factorial of negative number is not possible\")\n",
    "    else:\n",
    "        for i in range(1, number + 1):\n",
    "            result = result * i\n",
    "        print(\"Answer is %d\" %result)\n",
    "\n",
    "\n",
    "# Call the function\n",
    "calculate_factorial()\n",
    "    \n",
    "\n",
    "\n",
    "    "
   ]
  },
  {
   "cell_type": "markdown",
   "metadata": {},
   "source": [
    "# 13. Write a program that generates a Fibonacci sequence of length `n`"
   ]
  },
  {
   "cell_type": "code",
   "execution_count": 4,
   "metadata": {},
   "outputs": [
    {
     "name": "stdout",
     "output_type": "stream",
     "text": [
      "Fibonacci Series: 0 1 1 2 3 5 8 13 21 34 55 89 144 233 377 "
     ]
    }
   ],
   "source": [
    "# taking input from user of length 'n' of fibonacci series\n",
    "n = int(input(\"Enter the value of 'n': \"))\n",
    "\n",
    "val_1 = 0\n",
    "val_2 = 1\n",
    "\n",
    "print(\"Fibonacci Series:\", val_1, val_2, end=\" \")\n",
    "\n",
    "for i in range(2 , n):\n",
    "    val_3 = val_1 + val_2\n",
    "    val_1 = val_2\n",
    "    val_2 = val_3\n",
    "    print(val_3, end=\" \")\n"
   ]
  },
  {
   "cell_type": "markdown",
   "metadata": {},
   "source": [
    "# 14. Write a program that checks if a given number is prime or not"
   ]
  },
  {
   "cell_type": "code",
   "execution_count": 3,
   "metadata": {},
   "outputs": [
    {
     "name": "stdout",
     "output_type": "stream",
     "text": [
      "29 is a prime number\n"
     ]
    }
   ],
   "source": [
    "number = int(input(\"Enter number to check prime number or not: \"))\n",
    "\n",
    "check = False\n",
    "\n",
    "if number == 1:\n",
    "    print(\"%d is not prime number\" %number)\n",
    "elif number > 1:\n",
    "    for i in range(2, number):\n",
    "        if(number % i == 0):\n",
    "            check = True\n",
    "            break\n",
    "    \n",
    "    if check:\n",
    "        print(\"%d is not a prime number\" %number)\n",
    "    else:\n",
    "        print(\"%d is a prime number\" %number)\n",
    "\n",
    "    "
   ]
  },
  {
   "cell_type": "markdown",
   "metadata": {},
   "source": [
    "# 15. Write a program that prints the multiplication table of a given number"
   ]
  },
  {
   "cell_type": "code",
   "execution_count": 4,
   "metadata": {},
   "outputs": [
    {
     "name": "stdout",
     "output_type": "stream",
     "text": [
      "4 * 1 = 4\n",
      "4 * 2 = 8\n",
      "4 * 3 = 12\n",
      "4 * 4 = 16\n",
      "4 * 5 = 20\n",
      "4 * 6 = 24\n",
      "4 * 7 = 28\n",
      "4 * 8 = 32\n",
      "4 * 9 = 36\n",
      "4 * 10 = 40\n"
     ]
    }
   ],
   "source": [
    "value = int(input(\"Which number of multiplication table you want to calculate ?\"))\n",
    "\n",
    "for i in range(1 , 11):\n",
    "    print(value, \"*\", i, \"=\", value*i)"
   ]
  }
 ],
 "metadata": {
  "kernelspec": {
   "display_name": "Python 3",
   "language": "python",
   "name": "python3"
  },
  "language_info": {
   "codemirror_mode": {
    "name": "ipython",
    "version": 3
   },
   "file_extension": ".py",
   "mimetype": "text/x-python",
   "name": "python",
   "nbconvert_exporter": "python",
   "pygments_lexer": "ipython3",
   "version": "3.11.4"
  }
 },
 "nbformat": 4,
 "nbformat_minor": 2
}
