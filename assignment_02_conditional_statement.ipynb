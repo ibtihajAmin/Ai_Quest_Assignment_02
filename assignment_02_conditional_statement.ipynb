{
 "cells": [
  {
   "cell_type": "markdown",
   "metadata": {},
   "source": [
    "# 6. Write a program that determines if a number is even or odd."
   ]
  },
  {
   "cell_type": "code",
   "execution_count": 4,
   "metadata": {},
   "outputs": [
    {
     "name": "stdout",
     "output_type": "stream",
     "text": [
      "5 is an odd number\n"
     ]
    }
   ],
   "source": [
    "input_number = int(input(\"Enter a Number: \"))\n",
    "\n",
    "if input_number % 2 == 0:\n",
    "    print(\"%d is an even number\" %input_number)\n",
    "else:\n",
    "    print(\"%d is an odd number\" %input_number)\n",
    "\n"
   ]
  },
  {
   "cell_type": "markdown",
   "metadata": {},
   "source": [
    "# 7. Write a program that finds the maximum of three numbers."
   ]
  },
  {
   "cell_type": "code",
   "execution_count": 14,
   "metadata": {},
   "outputs": [
    {
     "name": "stdout",
     "output_type": "stream",
     "text": [
      "333 is the largest number among three numbers\n"
     ]
    }
   ],
   "source": [
    "first_number = int(input(\"Enter 1st Number: \"))\n",
    "second_number = int(input(\"Enter 2nd Number: \"))\n",
    "third_number = int(input(\"Enter 3rd Number: \"))\n",
    "\n",
    "if first_number > second_number and first_number > third_number:\n",
    "    print(\"%d is the largest among three numbers\" %first_number)\n",
    "elif second_number > third_number and second_number > first_number:\n",
    "    print(\"%d is the largest among three numbers\" %second_number)\n",
    "elif third_number > first_number and third_number > second_number:\n",
    "    print(\"%d is the largest number among three numbers\" %third_number)\n",
    "\n"
   ]
  },
  {
   "cell_type": "markdown",
   "metadata": {},
   "source": [
    "# 8. Write a program that determines if a year is a leap year or not"
   ]
  },
  {
   "cell_type": "code",
   "execution_count": 4,
   "metadata": {},
   "outputs": [
    {
     "name": "stdout",
     "output_type": "stream",
     "text": [
      "2024 is Leap Year\n"
     ]
    }
   ],
   "source": [
    "year = int(input(\"Enter Year: \"))\n",
    "\n",
    "if (year % 400 == 0) and (year % 100 == 0):\n",
    "    print(\"%d is Leap Year\" %year)\n",
    "elif (year % 4 == 0) and (year % 100 != 0):\n",
    "    print(\"%d is Leap Year\" %year)\n",
    "else:\n",
    "    print(\"%d is not Leap Year\" %year)\n",
    "\n"
   ]
  },
  {
   "cell_type": "markdown",
   "metadata": {},
   "source": [
    "# 9. Write a program that determines if a number is positive, negative, or zero"
   ]
  },
  {
   "cell_type": "code",
   "execution_count": 8,
   "metadata": {},
   "outputs": [
    {
     "name": "stdout",
     "output_type": "stream",
     "text": [
      "45 is a Positive Number\n"
     ]
    }
   ],
   "source": [
    "number = int(input(\"Take a number: \"))\n",
    "\n",
    "if number > 0:\n",
    "    print(\"%d is a Positive Number\" %number)\n",
    "elif number < 0:\n",
    "    print(\"%d is a Negative Number\" %number)\n",
    "else:\n",
    "    print(\"You have given %d\" %number)\n",
    "\n"
   ]
  }
 ],
 "metadata": {
  "kernelspec": {
   "display_name": "Python 3",
   "language": "python",
   "name": "python3"
  },
  "language_info": {
   "codemirror_mode": {
    "name": "ipython",
    "version": 3
   },
   "file_extension": ".py",
   "mimetype": "text/x-python",
   "name": "python",
   "nbconvert_exporter": "python",
   "pygments_lexer": "ipython3",
   "version": "3.11.4"
  }
 },
 "nbformat": 4,
 "nbformat_minor": 2
}
