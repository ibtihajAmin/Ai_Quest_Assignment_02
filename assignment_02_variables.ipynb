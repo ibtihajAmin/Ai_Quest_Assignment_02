{
 "cells": [
  {
   "cell_type": "markdown",
   "metadata": {},
   "source": [
    "# 1. Write a program that swaps the values of two variables."
   ]
  },
  {
   "cell_type": "code",
   "execution_count": 7,
   "metadata": {},
   "outputs": [
    {
     "name": "stdout",
     "output_type": "stream",
     "text": [
      "10 40\n",
      "40 10\n"
     ]
    }
   ],
   "source": [
    "number_1 = int(input(\"Enter First Number: \"))\n",
    "number_2 = int(input(\"Enter Second Number: \"))\n",
    "\n",
    "print(number_1, number_2)\n",
    "\n",
    "temp_value = number_1\n",
    "number_1 = number_2\n",
    "number_2 = temp_value\n",
    "\n",
    "print(number_1, number_2)"
   ]
  },
  {
   "cell_type": "markdown",
   "metadata": {},
   "source": [
    "# 2. Write a program that calculates the area of a rectangle given its length and width."
   ]
  },
  {
   "cell_type": "code",
   "execution_count": 8,
   "metadata": {},
   "outputs": [
    {
     "name": "stdout",
     "output_type": "stream",
     "text": [
      "The area of triangle: 6.875\n"
     ]
    }
   ],
   "source": [
    "length = float(input(\"Enter the length of the triangle: \"))\n",
    "width = float(input(\"Enter the width of the triangle: \"))\n",
    "\n",
    "area = 0.5 * length * width\n",
    "\n",
    "print(\"The area of triangle: %0.3f\" %area)"
   ]
  },
  {
   "cell_type": "markdown",
   "metadata": {},
   "source": [
    "# 3. Write a program that converts temperature from Fahrenheit to Celsius."
   ]
  },
  {
   "cell_type": "code",
   "execution_count": 9,
   "metadata": {},
   "outputs": [
    {
     "name": "stdout",
     "output_type": "stream",
     "text": [
      "Temperature in Celcius: 1.97\n"
     ]
    }
   ],
   "source": [
    "farenheit = float(input(\"Temperature in farenheit: \"))\n",
    "\n",
    "celcius = (farenheit - 32) * 5 / 9\n",
    "\n",
    "print(\"Temperature in Celcius: %0.2f\" %celcius)"
   ]
  },
  {
   "cell_type": "markdown",
   "metadata": {},
   "source": [
    "# 4. Write a program that calculates the volume of a sphere given its radius."
   ]
  },
  {
   "cell_type": "code",
   "execution_count": 11,
   "metadata": {},
   "outputs": [
    {
     "name": "stdout",
     "output_type": "stream",
     "text": [
      "Volume of Sphere: 143.793\n"
     ]
    }
   ],
   "source": [
    "from math import pi\n",
    "\n",
    "radius = float(input(\"Enter the value of Radius: \"))\n",
    "\n",
    "volume_of_sphere = (4/3) * pi * pow(radius, 3)\n",
    "\n",
    "print(\"Volume of Sphere: %.3f\" %volume_of_sphere)"
   ]
  },
  {
   "cell_type": "markdown",
   "metadata": {},
   "source": [
    "# 5. Write a program that finds the average of three numbers."
   ]
  },
  {
   "cell_type": "code",
   "execution_count": 12,
   "metadata": {},
   "outputs": [
    {
     "name": "stdout",
     "output_type": "stream",
     "text": [
      "Average of three numbers: 3.67\n"
     ]
    }
   ],
   "source": [
    "first_number = int(input(\"Enter 1st number: \"))\n",
    "second_number = int(input(\"Enter 2nd number:\"))\n",
    "third_number = int(input(\"Enter 3rd number:\"))\n",
    "\n",
    "average_of_numbers = (first_number + second_number + third_number) / 3\n",
    "\n",
    "print(\"Average of three numbers: %.2f\" %average_of_numbers)\n"
   ]
  }
 ],
 "metadata": {
  "kernelspec": {
   "display_name": "Python 3",
   "language": "python",
   "name": "python3"
  },
  "language_info": {
   "codemirror_mode": {
    "name": "ipython",
    "version": 3
   },
   "file_extension": ".py",
   "mimetype": "text/x-python",
   "name": "python",
   "nbconvert_exporter": "python",
   "pygments_lexer": "ipython3",
   "version": "3.11.4"
  }
 },
 "nbformat": 4,
 "nbformat_minor": 2
}
