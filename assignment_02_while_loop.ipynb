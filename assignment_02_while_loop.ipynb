{
 "cells": [
  {
   "cell_type": "markdown",
   "metadata": {},
   "source": [
    "# 16. Write a program that finds the sum of all even numbers between 1 and `n`"
   ]
  },
  {
   "cell_type": "code",
   "execution_count": 4,
   "metadata": {},
   "outputs": [
    {
     "name": "stdout",
     "output_type": "stream",
     "text": [
      "0\n",
      "2\n",
      "4\n",
      "6\n",
      "8\n",
      "10\n",
      "Sum of even numbers is 30\n"
     ]
    }
   ],
   "source": [
    "num = int(input(\"Enter the value of 'n':\"))\n",
    "\n",
    "i = 0\n",
    "sum = 0\n",
    "\n",
    "while i <= num:\n",
    "    if i % 2 == 0:\n",
    "        print(i)\n",
    "        sum = sum + i\n",
    "    i = i + 1\n",
    "\n",
    "print(\"Sum of even numbers is %d\" %sum)"
   ]
  },
  {
   "cell_type": "markdown",
   "metadata": {},
   "source": [
    "\n",
    "# 17. Write a program that reverses a given number"
   ]
  },
  {
   "cell_type": "code",
   "execution_count": 4,
   "metadata": {},
   "outputs": [
    {
     "name": "stdout",
     "output_type": "stream",
     "text": [
      "54\n"
     ]
    }
   ],
   "source": [
    "import math\n",
    "\n",
    "#Taking input from user\n",
    "number = int(input(\"Enter an integer: \"))\n",
    "\n",
    "#Initiate the value of reverse varialbe\n",
    "reverse = 0\n",
    "\n",
    "#Swap the value of 'number' variable\n",
    "temporary = number\n",
    "\n",
    "#Iterate the loop until found the reverse number\n",
    "while number > 0:\n",
    "    remainder = number % 10\n",
    "    reverse = (reverse * 10) + remainder\n",
    "    number = number // 10\n",
    "\n",
    "# Show the output\n",
    "print(reverse)\n",
    "\n",
    "\n"
   ]
  }
 ],
 "metadata": {
  "kernelspec": {
   "display_name": "Python 3",
   "language": "python",
   "name": "python3"
  },
  "language_info": {
   "codemirror_mode": {
    "name": "ipython",
    "version": 3
   },
   "file_extension": ".py",
   "mimetype": "text/x-python",
   "name": "python",
   "nbconvert_exporter": "python",
   "pygments_lexer": "ipython3",
   "version": "3.11.4"
  }
 },
 "nbformat": 4,
 "nbformat_minor": 2
}
